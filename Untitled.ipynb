{
 "cells": [
  {
   "cell_type": "code",
   "execution_count": null,
   "id": "d07bb3cd",
   "metadata": {},
   "outputs": [],
   "source": [
    "information = 1\n",
    "go_out = False\n",
    "while information > 0 and not(go_out):\n",
    "    try:\n",
    "        gender = int(input(\"Type 1 if you are male\\nType 2 if you are female\\nInput gender: \"))\n",
    "        if gender == 1:\n",
    "            height = float(input(\"What is your height?\\nInput height: \"))\n",
    "            if height < 160:\n",
    "                print(\"You are a short male.\")\n",
    "            if height > 175:\n",
    "                print(\"You are a tall male.\")\n",
    "            if height > 160 and height < 175:\n",
    "                print(\"You are an average height male\")\n",
    "        if gender == 2:\n",
    "            height = float(input(\"What is your height?\\nInput height: \"))\n",
    "            if height < 140:\n",
    "                print(\"You are a short female.\")\n",
    "            if height > 160:\n",
    "                print(\"You are a tall female.\")\n",
    "            if height > 140 and height < 160:\n",
    "                print(\"You are an average height female\")\n",
    "            \n",
    "        another = int(input(\"Replay?\\nPress 1 for yes\\nPress 2 for no\\nInput number: \"))\n",
    "        if another == 1:\n",
    "            go_out = False\n",
    "        if another == 2:\n",
    "            go_out = True\n",
    "    except ValueError:\n",
    "        print(\"Invalid input\")\n",
    "\n",
    "if go_out:\n",
    "    print(\"Alright\")"
   ]
  },
  {
   "cell_type": "code",
   "execution_count": null,
   "id": "00f73fff",
   "metadata": {},
   "outputs": [],
   "source": []
  }
 ],
 "metadata": {
  "kernelspec": {
   "display_name": "Python 3 (ipykernel)",
   "language": "python",
   "name": "python3"
  },
  "language_info": {
   "codemirror_mode": {
    "name": "ipython",
    "version": 3
   },
   "file_extension": ".py",
   "mimetype": "text/x-python",
   "name": "python",
   "nbconvert_exporter": "python",
   "pygments_lexer": "ipython3",
   "version": "3.11.4"
  }
 },
 "nbformat": 4,
 "nbformat_minor": 5
}
